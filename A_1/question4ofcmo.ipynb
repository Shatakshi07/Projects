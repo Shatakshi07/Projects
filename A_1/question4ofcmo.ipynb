{
 "cells": [
  {
   "cell_type": "code",
   "execution_count": 11,
   "metadata": {},
   "outputs": [
    {
     "name": "stdout",
     "output_type": "stream",
     "text": [
      "[ 0.18 -0.92  0.84  0.21  0.75]\n",
      "-0.62\n"
     ]
    }
   ],
   "source": [
    "import subprocess\n",
    "\n",
    "# Run the external program and capture the output\n",
    "\n",
    "data =subprocess.run([\"./getDataPoints.exe\", \"22888\"], stdout=subprocess.PIPE).stdout.decode(\"utf-8\").split('\\n')\n",
    "\n",
    "# Initialize lists to store X and Y data\n",
    "X_data = []\n",
    "Y_data = []\n",
    "\n",
    "for line in data:\n",
    "    if line.strip():\n",
    "        y, x1,x2,x3,x4,x5 = line.split(', ')\n",
    "        x1=x1.replace('[' , '')\n",
    "        x5=x5.replace(']' , '')\n",
    "        Y_data.append(float(y))\n",
    "        X_data.append(float(x1))\n",
    "        X_data.append(float(x2))\n",
    "        X_data.append(float(x3))\n",
    "        X_data.append(float(x4))\n",
    "        X_data.append(float(x5))\n",
    "        X_data.append(1)\n",
    "\n",
    "\n",
    "import numpy as np\n",
    "import re\n",
    "# Convert data to NumPy arrays\n",
    "X = np.array(X_data).reshape(100,6)\n",
    "Y = np.array(Y_data)\n",
    "\n",
    "# Calculate X^T\n",
    "XT = np.transpose(X)\n",
    "\n",
    "# Calculate X^T X\n",
    "XTX = np.dot(XT, X)\n",
    "\n",
    "# Calculate X^T Y\n",
    "XTY = np.dot(XT, Y)\n",
    "\n",
    "# Calculate the inverse of X^T X\n",
    "XTX_inverse = np.linalg.inv(XTX)\n",
    "\n",
    "# Calculate W\n",
    "W = np.dot(XTX_inverse, XTY)\n",
    "b=float(f'{W[-1]:.2f}')\n",
    "W = np.delete(W,-1)\n",
    "\n",
    "for i in range(0,5):\n",
    "    W[i]=float(f'{W[i]:.2f}')\n",
    "    \n",
    "print(W)\n",
    "\n",
    "print(b)\n"
   ]
  },
  {
   "cell_type": "code",
   "execution_count": null,
   "metadata": {},
   "outputs": [],
   "source": []
  }
 ],
 "metadata": {
  "kernelspec": {
   "display_name": "Python 3",
   "language": "python",
   "name": "python3"
  },
  "language_info": {
   "codemirror_mode": {
    "name": "ipython",
    "version": 3
   },
   "file_extension": ".py",
   "mimetype": "text/x-python",
   "name": "python",
   "nbconvert_exporter": "python",
   "pygments_lexer": "ipython3",
   "version": "3.7.6"
  }
 },
 "nbformat": 4,
 "nbformat_minor": 4
}
